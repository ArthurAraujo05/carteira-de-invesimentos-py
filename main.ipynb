{
 "cells": [
  {
   "cell_type": "code",
   "execution_count": 38,
   "metadata": {},
   "outputs": [],
   "source": [
    "import pandas as pd\n",
    "import yfinance as yf\n",
    "from datetime import datetime"
   ]
  },
  {
   "cell_type": "code",
   "execution_count": 47,
   "metadata": {},
   "outputs": [
    {
     "name": "stdout",
     "output_type": "stream",
     "text": [
      "ITUB4.SA 1000.0\n",
      "BBAS3.SA 2000.0\n",
      "VALE3.SA 1000.0\n",
      "EGIE3.SA 500.0\n",
      "SLCE3.SA 300.0\n",
      "{'ITUB4.SA': 1000.0, 'BBAS3.SA': 2000.0, 'VALE3.SA': 1000.0, 'EGIE3.SA': 500.0, 'SLCE3.SA': 300.0}\n"
     ]
    }
   ],
   "source": [
    "with open(\"carteira.txt\", \"r\") as arquivo:\n",
    "    linhas = arquivo.readlines()\n",
    "\n",
    "carteira = {}\n",
    "for linha in linhas:\n",
    "    ticker, valor = linha.split(\"-\")\n",
    "    ticker = f\"{ticker.strip()}.SA\"\n",
    "    valor = float(valor.strip())\n",
    "    print(ticker, valor)\n",
    "    carteira[ticker] = valor\n",
    "    \n",
    "print(carteira)"
   ]
  },
  {
   "cell_type": "code",
   "execution_count": 52,
   "metadata": {},
   "outputs": [
    {
     "name": "stdout",
     "output_type": "stream",
     "text": [
      "Baixando cotações...\n"
     ]
    },
    {
     "data": {
      "text/html": [
       "<div>\n",
       "<style scoped>\n",
       "    .dataframe tbody tr th:only-of-type {\n",
       "        vertical-align: middle;\n",
       "    }\n",
       "\n",
       "    .dataframe tbody tr th {\n",
       "        vertical-align: top;\n",
       "    }\n",
       "\n",
       "    .dataframe thead th {\n",
       "        text-align: right;\n",
       "    }\n",
       "</style>\n",
       "<table border=\"1\" class=\"dataframe\">\n",
       "  <thead>\n",
       "    <tr style=\"text-align: right;\">\n",
       "      <th>Ticker</th>\n",
       "      <th>BBAS3.SA</th>\n",
       "      <th>EGIE3.SA</th>\n",
       "      <th>ITUB4.SA</th>\n",
       "      <th>SLCE3.SA</th>\n",
       "      <th>VALE3.SA</th>\n",
       "      <th>^BVSP</th>\n",
       "    </tr>\n",
       "    <tr>\n",
       "      <th>Date</th>\n",
       "      <th></th>\n",
       "      <th></th>\n",
       "      <th></th>\n",
       "      <th></th>\n",
       "      <th></th>\n",
       "      <th></th>\n",
       "    </tr>\n",
       "  </thead>\n",
       "  <tbody>\n",
       "    <tr>\n",
       "      <th>2024-01-02</th>\n",
       "      <td>25.261513</td>\n",
       "      <td>41.862671</td>\n",
       "      <td>31.221712</td>\n",
       "      <td>17.552208</td>\n",
       "      <td>70.522316</td>\n",
       "      <td>132697.0</td>\n",
       "    </tr>\n",
       "    <tr>\n",
       "      <th>2024-01-03</th>\n",
       "      <td>25.284578</td>\n",
       "      <td>41.843864</td>\n",
       "      <td>30.877077</td>\n",
       "      <td>17.676556</td>\n",
       "      <td>70.156204</td>\n",
       "      <td>132834.0</td>\n",
       "    </tr>\n",
       "    <tr>\n",
       "      <th>2024-01-04</th>\n",
       "      <td>25.017017</td>\n",
       "      <td>41.721622</td>\n",
       "      <td>30.672165</td>\n",
       "      <td>17.456556</td>\n",
       "      <td>69.213470</td>\n",
       "      <td>131226.0</td>\n",
       "    </tr>\n",
       "    <tr>\n",
       "      <th>2024-01-05</th>\n",
       "      <td>25.316868</td>\n",
       "      <td>41.655804</td>\n",
       "      <td>31.389359</td>\n",
       "      <td>17.714817</td>\n",
       "      <td>68.325645</td>\n",
       "      <td>132023.0</td>\n",
       "    </tr>\n",
       "    <tr>\n",
       "      <th>2024-01-08</th>\n",
       "      <td>25.533688</td>\n",
       "      <td>41.354904</td>\n",
       "      <td>31.054049</td>\n",
       "      <td>17.561773</td>\n",
       "      <td>67.977837</td>\n",
       "      <td>132427.0</td>\n",
       "    </tr>\n",
       "    <tr>\n",
       "      <th>...</th>\n",
       "      <td>...</td>\n",
       "      <td>...</td>\n",
       "      <td>...</td>\n",
       "      <td>...</td>\n",
       "      <td>...</td>\n",
       "      <td>...</td>\n",
       "    </tr>\n",
       "    <tr>\n",
       "      <th>2025-01-30</th>\n",
       "      <td>27.639999</td>\n",
       "      <td>36.849998</td>\n",
       "      <td>34.012234</td>\n",
       "      <td>17.889999</td>\n",
       "      <td>55.029999</td>\n",
       "      <td>126913.0</td>\n",
       "    </tr>\n",
       "    <tr>\n",
       "      <th>2025-01-31</th>\n",
       "      <td>27.680000</td>\n",
       "      <td>36.799999</td>\n",
       "      <td>33.792351</td>\n",
       "      <td>17.360001</td>\n",
       "      <td>54.169998</td>\n",
       "      <td>126135.0</td>\n",
       "    </tr>\n",
       "    <tr>\n",
       "      <th>2025-02-03</th>\n",
       "      <td>27.610001</td>\n",
       "      <td>36.310001</td>\n",
       "      <td>33.480000</td>\n",
       "      <td>17.480000</td>\n",
       "      <td>54.209999</td>\n",
       "      <td>125970.0</td>\n",
       "    </tr>\n",
       "    <tr>\n",
       "      <th>2025-02-04</th>\n",
       "      <td>27.770000</td>\n",
       "      <td>36.099998</td>\n",
       "      <td>33.599998</td>\n",
       "      <td>17.629999</td>\n",
       "      <td>54.020000</td>\n",
       "      <td>125147.0</td>\n",
       "    </tr>\n",
       "    <tr>\n",
       "      <th>2025-02-05</th>\n",
       "      <td>27.830000</td>\n",
       "      <td>35.630001</td>\n",
       "      <td>34.110001</td>\n",
       "      <td>18.110001</td>\n",
       "      <td>54.310001</td>\n",
       "      <td>125534.0</td>\n",
       "    </tr>\n",
       "  </tbody>\n",
       "</table>\n",
       "<p>276 rows × 6 columns</p>\n",
       "</div>"
      ],
      "text/plain": [
       "Ticker       BBAS3.SA   EGIE3.SA   ITUB4.SA   SLCE3.SA   VALE3.SA     ^BVSP\n",
       "Date                                                                       \n",
       "2024-01-02  25.261513  41.862671  31.221712  17.552208  70.522316  132697.0\n",
       "2024-01-03  25.284578  41.843864  30.877077  17.676556  70.156204  132834.0\n",
       "2024-01-04  25.017017  41.721622  30.672165  17.456556  69.213470  131226.0\n",
       "2024-01-05  25.316868  41.655804  31.389359  17.714817  68.325645  132023.0\n",
       "2024-01-08  25.533688  41.354904  31.054049  17.561773  67.977837  132427.0\n",
       "...               ...        ...        ...        ...        ...       ...\n",
       "2025-01-30  27.639999  36.849998  34.012234  17.889999  55.029999  126913.0\n",
       "2025-01-31  27.680000  36.799999  33.792351  17.360001  54.169998  126135.0\n",
       "2025-02-03  27.610001  36.310001  33.480000  17.480000  54.209999  125970.0\n",
       "2025-02-04  27.770000  36.099998  33.599998  17.629999  54.020000  125147.0\n",
       "2025-02-05  27.830000  35.630001  34.110001  18.110001  54.310001  125534.0\n",
       "\n",
       "[276 rows x 6 columns]"
      ]
     },
     "metadata": {},
     "output_type": "display_data"
    }
   ],
   "source": [
    "ativos = list(carteira.keys())\n",
    "if \"^BVSP\" not in ativos:\n",
    "    ativos.append(\"^BVSP\")\n",
    "\n",
    "data_inicio = \"2024-01-01\"\n",
    "data_fim = datetime.now().strftime(\"%Y-%m-%d\")\n",
    "\n",
    "print(\"Baixando cotações...\")\n",
    "tabela_cotacoes = yf.download(ativos, start=data_inicio, end=data_fim, progress=False)[\"Close\"]\n",
    "display(tabela_cotacoes)"
   ]
  },
  {
   "cell_type": "code",
   "execution_count": 60,
   "metadata": {},
   "outputs": [
    {
     "name": "stdout",
     "output_type": "stream",
     "text": [
      "{'BBAS3.SA': np.float64(0.10167590484908695), 'EGIE3.SA': np.float64(-0.14888371182630145), 'ITUB4.SA': np.float64(0.0925089722025596), 'SLCE3.SA': np.float64(0.031779059663922915), 'VALE3.SA': np.float64(-0.22988914048908526), '^BVSP': np.float64(-0.053980120123288344)}\n"
     ]
    }
   ],
   "source": [
    "rentabilidades = {\n",
    "    ativo: tabela_cotacoes[ativo].iloc[-1] / tabela_cotacoes[ativo].iloc[0] - 1\n",
    "    for ativo in tabela_cotacoes.columns\n",
    "}\n",
    "print(rentabilidades)"
   ]
  },
  {
   "cell_type": "code",
   "execution_count": 59,
   "metadata": {},
   "outputs": [
    {
     "name": "stdout",
     "output_type": "stream",
     "text": [
      "Valor inicial: R$ 4,800.00\n",
      "Valor final: R$ 4,801.06\n",
      "Rentabilidade da carteira: 0.0%\n",
      "Rentabilidade do índice BVSP: -5.4%\n",
      "\n"
     ]
    }
   ],
   "source": [
    "valor_inicial = sum(carteira.values())\n",
    "print(f\"Valor inicial: R$ {valor_inicial:,.2f}\")\n",
    "\n",
    "valor_final = sum(carteira[ativo] * (1 + rentabilidades[ativo]) for ativo in carteira)\n",
    "print(f\"Valor final: R$ {valor_final:,.2f}\")\n",
    "\n",
    "rentabilidade_carteira = valor_final / valor_inicial - 1\n",
    "print(f\"Rentabilidade da carteira: {rentabilidade_carteira:.1%}\")\n",
    "\n",
    "rentabilidade_indice = rentabilidades[\"^BVSP\"]\n",
    "print(f\"Rentabilidade do índice BVSP: {rentabilidade_indice:.1%}\\n\")"
   ]
  }
 ],
 "metadata": {
  "kernelspec": {
   "display_name": "Python 3",
   "language": "python",
   "name": "python3"
  },
  "language_info": {
   "codemirror_mode": {
    "name": "ipython",
    "version": 3
   },
   "file_extension": ".py",
   "mimetype": "text/x-python",
   "name": "python",
   "nbconvert_exporter": "python",
   "pygments_lexer": "ipython3",
   "version": "3.13.0"
  }
 },
 "nbformat": 4,
 "nbformat_minor": 2
}
